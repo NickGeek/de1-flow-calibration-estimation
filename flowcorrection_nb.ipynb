{
 "cells": [
  {
   "cell_type": "code",
   "execution_count": null,
   "metadata": {
    "pycharm": {
     "name": "#%%\n"
    }
   },
   "outputs": [],
   "source": [
    "%matplotlib widget\n",
    "\n",
    "import sys\n",
    "import warnings\n",
    "from io import BytesIO\n",
    "from io import TextIOWrapper\n",
    "from matplotlib import pyplot as plt\n",
    "from ipywidgets import interact\n",
    "from ipywidgets import interactive\n",
    "from ipywidgets import FileUpload\n",
    "from ipywidgets import Text\n",
    "from ipywidgets import Label\n",
    "from ipywidgets import FloatRangeSlider\n",
    "from ipywidgets import FloatSlider\n",
    "from ipywidgets import Tab\n",
    "from ipywidgets import HBox\n",
    "from ipywidgets import VBox\n",
    "from ipywidgets import Layout\n",
    "from ipywidgets import Button\n",
    "from ipywidgets import Checkbox\n",
    "\n",
    "from flowcorrection import Analysis\n",
    "from shot import Shot\n",
    "\n",
    "ipython = get_ipython()\n",
    "\n",
    "def hide_traceback(exc_tuple=None, filename=None, tb_offset=None,\n",
    "                   exception_only=False, running_compiled_code=False):\n",
    "    etype, value, tb = sys.exc_info()\n",
    "    def ignore(x, y):\n",
    "        return []\n",
    "    return ipython._showtraceback(etype, value, ignore(etype, value))\n",
    "\n",
    "ipython.showtraceback = hide_traceback\n",
    "\n",
    "\n",
    "def make_interactive(a: Analysis):\n",
    "    def update_flow(correction_val):\n",
    "        a._update_flow(a.shot.flow, correction_val)\n",
    "    def update_window(window_value):\n",
    "        a._update_window(window_value)\n",
    "\n",
    "    # range slider (optimization window)\n",
    "    end_time = a.shot.elapsed[-1]\n",
    "    opt_window_slider = FloatRangeSlider(value=a._initial_window, min=0, max=end_time, step=0.1, readout=False, description='opt. window', layout=Layout(width='90%'))\n",
    "    interact(update_window, window_value=opt_window_slider)\n",
    "\n",
    "    # vertical slider, adjustment buttons (correction value)\n",
    "    correction_slider = FloatSlider(value=1.0, min=0.3, max=2.5, step=0.01, readout=False, description='correction value', layout=Layout(width='90%'))\n",
    "    minus_btn = Button(description='< (-0.01)')\n",
    "    plus_btn = Button(description='(+0.01) >')\n",
    "    # buttons\n",
    "    def adjust_correction(offset: float):\n",
    "        correction_slider.value += offset\n",
    "    minus_btn.on_click(lambda _: adjust_correction(-0.01))\n",
    "    plus_btn.on_click(lambda _: adjust_correction(0.01))\n",
    "    # value box\n",
    "    correction_val = Text(value='', description='', disabled=True, layout=Layout(width='15%'))\n",
    "    def set_correction_text(_=None):\n",
    "        if a.shot.current_calibration == 1.0:\n",
    "            value = 'x%.02f' % correction_slider.value\n",
    "            correction_val.value = value\n",
    "        else:\n",
    "            value = 'x%.03f\\n(%.02f)' % (a.shot.current_calibration * correction_slider.value, correction_slider.value)\n",
    "            correction_val.value = value\n",
    "    correction_slider.observe(set_correction_text, names='value')\n",
    "    set_correction_text()\n",
    "\n",
    "    correction_bottom = HBox([minus_btn, plus_btn, correction_val])\n",
    "    correction_box = VBox([interactive(update_flow, correction_val=correction_slider), correction_bottom], layout=Layout(width='100%'))\n",
    "    display(correction_box)\n",
    "\n",
    "\n",
    "def from_url(visualizer_url: str, verbose: bool):\n",
    "    try:\n",
    "        if not visualizer_url.startswith('http://') and not visualizer_url.startswith('https://'):\n",
    "            raise RuntimeError('invalid shot url!')\n",
    "        s = Shot.parse_visualizer(visualizer_url)\n",
    "        a = Analysis(s)\n",
    "        a.show(False, verbose)\n",
    "        make_interactive(a)\n",
    "        note1 = Label(value='IMPORTANT! Current calibration factor is unknown!')\n",
    "        note2 = Label(value='Multiply the current calibration factor by this correction value!')\n",
    "        display(HBox([note1, note2]))\n",
    "    except Exception as e:\n",
    "        display(Label(value='ERROR: %s' % e))\n",
    "\n",
    "\n",
    "def from_file(uploaded, verbose: bool):\n",
    "    try:\n",
    "        for name in uploaded:\n",
    "            raw_shot_buf = BytesIO(uploaded[name]['content'])\n",
    "            raw_shot_buf.name = name\n",
    "            shot_input = TextIOWrapper(raw_shot_buf, encoding='utf-8')\n",
    "            s = Shot.parse(shot_input)\n",
    "            a = Analysis(s)\n",
    "            a.show(False, verbose)\n",
    "            make_interactive(a)\n",
    "            break\n",
    "    except Exception as e:\n",
    "        display(Label(value='ERROR: %s' % e, color='red'))\n",
    "\n",
    "warnings.filterwarnings('ignore')\n",
    "\n",
    "plt.rcParams['figure.figsize'] = (9, 6)"
   ]
  },
  {
   "cell_type": "code",
   "execution_count": null,
   "metadata": {
    "pycharm": {
     "name": "#%%\n"
    }
   },
   "outputs": [],
   "source": [
    "# Parameters:\n",
    "verbose = False\n",
    "shot_url = None\n"
   ]
  },
  {
   "cell_type": "code",
   "execution_count": null,
   "metadata": {
    "pycharm": {
     "name": "#%%\n"
    }
   },
   "outputs": [],
   "source": [
    "if shot_url:\n",
    "    from_url(shot_url, verbose)\n",
    "else:\n",
    "    tab = Tab()\n",
    "    for idx, s in enumerate(['from .shot file', 'from visualizer.coffee']):\n",
    "        tab.set_title(idx, s)\n",
    "    tab_children = [\n",
    "        interactive(from_file,\n",
    "                    uploaded=FileUpload(accept='.shot', multiple=False),\n",
    "                    verbose=Checkbox(description='show verbose graph!').value),\n",
    "        interactive(from_url, {'manual': True, 'manual_name': 'Run'},\n",
    "                    visualizer_url=Text('https://visualizer.coffee/shots/...').value,\n",
    "                    verbose=Checkbox(description='show verbose graph!').value)\n",
    "    ]\n",
    "    tab.children = [VBox(children=(tab_children[0],)), VBox(children=(tab_children[1],))]\n",
    "    display(tab)"
   ]
  }
 ],
 "metadata": {
  "kernelspec": {
   "display_name": "Python 3",
   "language": "python",
   "name": "python3"
  },
  "language_info": {
   "codemirror_mode": {
    "name": "ipython",
    "version": 3
   },
   "file_extension": ".py",
   "mimetype": "text/x-python",
   "name": "python",
   "nbconvert_exporter": "python",
   "pygments_lexer": "ipython3",
   "version": "3.9.5"
  }
 },
 "nbformat": 4,
 "nbformat_minor": 1
}